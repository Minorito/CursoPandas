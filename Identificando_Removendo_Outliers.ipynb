{
  "nbformat": 4,
  "nbformat_minor": 0,
  "metadata": {
    "colab": {
      "provenance": [],
      "authorship_tag": "ABX9TyM6vmebvviVCZUSlYADExJF",
      "include_colab_link": true
    },
    "kernelspec": {
      "name": "python3",
      "display_name": "Python 3"
    },
    "language_info": {
      "name": "python"
    }
  },
  "cells": [
    {
      "cell_type": "markdown",
      "metadata": {
        "id": "view-in-github",
        "colab_type": "text"
      },
      "source": [
        "<a href=\"https://colab.research.google.com/github/Minorito/CursoPandas/blob/main/Identificando_Removendo_Outliers.ipynb\" target=\"_parent\"><img src=\"https://colab.research.google.com/assets/colab-badge.svg\" alt=\"Open In Colab\"/></a>"
      ]
    },
    {
      "cell_type": "markdown",
      "source": [
        "#Relatório de Análise VIII"
      ],
      "metadata": {
        "id": "vkC-DV5ucM7_"
      }
    },
    {
      "cell_type": "markdown",
      "source": [
        "## Identificando e Removendo Outliers"
      ],
      "metadata": {
        "id": "AUlTMZUqcQNm"
      }
    },
    {
      "cell_type": "code",
      "source": [
        "%matplotlib inline\n",
        "import pandas as pd\n",
        "import matplotlib.pyplot as plt\n",
        "plt.rc('figure', figsize = (12,6))"
      ],
      "metadata": {
        "id": "9mSRnRMGcOF2"
      },
      "execution_count": 81,
      "outputs": []
    },
    {
      "cell_type": "code",
      "execution_count": 82,
      "metadata": {
        "id": "pLBRKFSacMQJ"
      },
      "outputs": [],
      "source": [
        "dados = pd.read_csv('aluguel_residencial.csv', sep=';')"
      ]
    },
    {
      "cell_type": "code",
      "source": [
        "dados"
      ],
      "metadata": {
        "colab": {
          "base_uri": "https://localhost:8080/",
          "height": 424
        },
        "id": "aIDTyMc-ctA2",
        "outputId": "b313aef2-30b2-4d2f-c870-d64a5e22ed38"
      },
      "execution_count": 83,
      "outputs": [
        {
          "output_type": "execute_result",
          "data": {
            "text/plain": [
              "              Tipo                Bairro  Quartos  Vagas  Suites  Area  \\\n",
              "0        Quitinete            Copacabana        1      0       0    40   \n",
              "1             Casa       Jardim Botânico        2      0       1   100   \n",
              "2      Apartamento                Centro        1      0       0    15   \n",
              "3      Apartamento          Higienópolis        1      0       0    48   \n",
              "4      Apartamento              Cachambi        2      0       0    50   \n",
              "...            ...                   ...      ...    ...     ...   ...   \n",
              "22086  Apartamento                 Méier        2      0       0    70   \n",
              "22087    Quitinete                Centro        0      0       0    27   \n",
              "22088  Apartamento           Jacarepaguá        3      1       2    78   \n",
              "22089  Apartamento  São Francisco Xavier        2      1       0    48   \n",
              "22090  Apartamento                Leblon        2      0       0    70   \n",
              "\n",
              "        Valor  Condominio  IPTU  Valor m2 Tipo Agregado  \n",
              "0      1700.0       500.0  60.0     42.50   Apartamento  \n",
              "1      7000.0         0.0   0.0     70.00          Casa  \n",
              "2       800.0       390.0  20.0     53.33   Apartamento  \n",
              "3       800.0       230.0   0.0     16.67   Apartamento  \n",
              "4      1300.0       301.0  17.0     26.00   Apartamento  \n",
              "...       ...         ...   ...       ...           ...  \n",
              "22086   900.0       490.0  48.0     12.86   Apartamento  \n",
              "22087   800.0       350.0  25.0     29.63   Apartamento  \n",
              "22088  1800.0       800.0  40.0     23.08   Apartamento  \n",
              "22089  1400.0       509.0  37.0     29.17   Apartamento  \n",
              "22090  3000.0       760.0   0.0     42.86   Apartamento  \n",
              "\n",
              "[22091 rows x 11 columns]"
            ],
            "text/html": [
              "\n",
              "  <div id=\"df-5d120d9d-9ce4-4aab-9fa7-961daf1993f5\">\n",
              "    <div class=\"colab-df-container\">\n",
              "      <div>\n",
              "<style scoped>\n",
              "    .dataframe tbody tr th:only-of-type {\n",
              "        vertical-align: middle;\n",
              "    }\n",
              "\n",
              "    .dataframe tbody tr th {\n",
              "        vertical-align: top;\n",
              "    }\n",
              "\n",
              "    .dataframe thead th {\n",
              "        text-align: right;\n",
              "    }\n",
              "</style>\n",
              "<table border=\"1\" class=\"dataframe\">\n",
              "  <thead>\n",
              "    <tr style=\"text-align: right;\">\n",
              "      <th></th>\n",
              "      <th>Tipo</th>\n",
              "      <th>Bairro</th>\n",
              "      <th>Quartos</th>\n",
              "      <th>Vagas</th>\n",
              "      <th>Suites</th>\n",
              "      <th>Area</th>\n",
              "      <th>Valor</th>\n",
              "      <th>Condominio</th>\n",
              "      <th>IPTU</th>\n",
              "      <th>Valor m2</th>\n",
              "      <th>Tipo Agregado</th>\n",
              "    </tr>\n",
              "  </thead>\n",
              "  <tbody>\n",
              "    <tr>\n",
              "      <th>0</th>\n",
              "      <td>Quitinete</td>\n",
              "      <td>Copacabana</td>\n",
              "      <td>1</td>\n",
              "      <td>0</td>\n",
              "      <td>0</td>\n",
              "      <td>40</td>\n",
              "      <td>1700.0</td>\n",
              "      <td>500.0</td>\n",
              "      <td>60.0</td>\n",
              "      <td>42.50</td>\n",
              "      <td>Apartamento</td>\n",
              "    </tr>\n",
              "    <tr>\n",
              "      <th>1</th>\n",
              "      <td>Casa</td>\n",
              "      <td>Jardim Botânico</td>\n",
              "      <td>2</td>\n",
              "      <td>0</td>\n",
              "      <td>1</td>\n",
              "      <td>100</td>\n",
              "      <td>7000.0</td>\n",
              "      <td>0.0</td>\n",
              "      <td>0.0</td>\n",
              "      <td>70.00</td>\n",
              "      <td>Casa</td>\n",
              "    </tr>\n",
              "    <tr>\n",
              "      <th>2</th>\n",
              "      <td>Apartamento</td>\n",
              "      <td>Centro</td>\n",
              "      <td>1</td>\n",
              "      <td>0</td>\n",
              "      <td>0</td>\n",
              "      <td>15</td>\n",
              "      <td>800.0</td>\n",
              "      <td>390.0</td>\n",
              "      <td>20.0</td>\n",
              "      <td>53.33</td>\n",
              "      <td>Apartamento</td>\n",
              "    </tr>\n",
              "    <tr>\n",
              "      <th>3</th>\n",
              "      <td>Apartamento</td>\n",
              "      <td>Higienópolis</td>\n",
              "      <td>1</td>\n",
              "      <td>0</td>\n",
              "      <td>0</td>\n",
              "      <td>48</td>\n",
              "      <td>800.0</td>\n",
              "      <td>230.0</td>\n",
              "      <td>0.0</td>\n",
              "      <td>16.67</td>\n",
              "      <td>Apartamento</td>\n",
              "    </tr>\n",
              "    <tr>\n",
              "      <th>4</th>\n",
              "      <td>Apartamento</td>\n",
              "      <td>Cachambi</td>\n",
              "      <td>2</td>\n",
              "      <td>0</td>\n",
              "      <td>0</td>\n",
              "      <td>50</td>\n",
              "      <td>1300.0</td>\n",
              "      <td>301.0</td>\n",
              "      <td>17.0</td>\n",
              "      <td>26.00</td>\n",
              "      <td>Apartamento</td>\n",
              "    </tr>\n",
              "    <tr>\n",
              "      <th>...</th>\n",
              "      <td>...</td>\n",
              "      <td>...</td>\n",
              "      <td>...</td>\n",
              "      <td>...</td>\n",
              "      <td>...</td>\n",
              "      <td>...</td>\n",
              "      <td>...</td>\n",
              "      <td>...</td>\n",
              "      <td>...</td>\n",
              "      <td>...</td>\n",
              "      <td>...</td>\n",
              "    </tr>\n",
              "    <tr>\n",
              "      <th>22086</th>\n",
              "      <td>Apartamento</td>\n",
              "      <td>Méier</td>\n",
              "      <td>2</td>\n",
              "      <td>0</td>\n",
              "      <td>0</td>\n",
              "      <td>70</td>\n",
              "      <td>900.0</td>\n",
              "      <td>490.0</td>\n",
              "      <td>48.0</td>\n",
              "      <td>12.86</td>\n",
              "      <td>Apartamento</td>\n",
              "    </tr>\n",
              "    <tr>\n",
              "      <th>22087</th>\n",
              "      <td>Quitinete</td>\n",
              "      <td>Centro</td>\n",
              "      <td>0</td>\n",
              "      <td>0</td>\n",
              "      <td>0</td>\n",
              "      <td>27</td>\n",
              "      <td>800.0</td>\n",
              "      <td>350.0</td>\n",
              "      <td>25.0</td>\n",
              "      <td>29.63</td>\n",
              "      <td>Apartamento</td>\n",
              "    </tr>\n",
              "    <tr>\n",
              "      <th>22088</th>\n",
              "      <td>Apartamento</td>\n",
              "      <td>Jacarepaguá</td>\n",
              "      <td>3</td>\n",
              "      <td>1</td>\n",
              "      <td>2</td>\n",
              "      <td>78</td>\n",
              "      <td>1800.0</td>\n",
              "      <td>800.0</td>\n",
              "      <td>40.0</td>\n",
              "      <td>23.08</td>\n",
              "      <td>Apartamento</td>\n",
              "    </tr>\n",
              "    <tr>\n",
              "      <th>22089</th>\n",
              "      <td>Apartamento</td>\n",
              "      <td>São Francisco Xavier</td>\n",
              "      <td>2</td>\n",
              "      <td>1</td>\n",
              "      <td>0</td>\n",
              "      <td>48</td>\n",
              "      <td>1400.0</td>\n",
              "      <td>509.0</td>\n",
              "      <td>37.0</td>\n",
              "      <td>29.17</td>\n",
              "      <td>Apartamento</td>\n",
              "    </tr>\n",
              "    <tr>\n",
              "      <th>22090</th>\n",
              "      <td>Apartamento</td>\n",
              "      <td>Leblon</td>\n",
              "      <td>2</td>\n",
              "      <td>0</td>\n",
              "      <td>0</td>\n",
              "      <td>70</td>\n",
              "      <td>3000.0</td>\n",
              "      <td>760.0</td>\n",
              "      <td>0.0</td>\n",
              "      <td>42.86</td>\n",
              "      <td>Apartamento</td>\n",
              "    </tr>\n",
              "  </tbody>\n",
              "</table>\n",
              "<p>22091 rows × 11 columns</p>\n",
              "</div>\n",
              "      <button class=\"colab-df-convert\" onclick=\"convertToInteractive('df-5d120d9d-9ce4-4aab-9fa7-961daf1993f5')\"\n",
              "              title=\"Convert this dataframe to an interactive table.\"\n",
              "              style=\"display:none;\">\n",
              "        \n",
              "  <svg xmlns=\"http://www.w3.org/2000/svg\" height=\"24px\"viewBox=\"0 0 24 24\"\n",
              "       width=\"24px\">\n",
              "    <path d=\"M0 0h24v24H0V0z\" fill=\"none\"/>\n",
              "    <path d=\"M18.56 5.44l.94 2.06.94-2.06 2.06-.94-2.06-.94-.94-2.06-.94 2.06-2.06.94zm-11 1L8.5 8.5l.94-2.06 2.06-.94-2.06-.94L8.5 2.5l-.94 2.06-2.06.94zm10 10l.94 2.06.94-2.06 2.06-.94-2.06-.94-.94-2.06-.94 2.06-2.06.94z\"/><path d=\"M17.41 7.96l-1.37-1.37c-.4-.4-.92-.59-1.43-.59-.52 0-1.04.2-1.43.59L10.3 9.45l-7.72 7.72c-.78.78-.78 2.05 0 2.83L4 21.41c.39.39.9.59 1.41.59.51 0 1.02-.2 1.41-.59l7.78-7.78 2.81-2.81c.8-.78.8-2.07 0-2.86zM5.41 20L4 18.59l7.72-7.72 1.47 1.35L5.41 20z\"/>\n",
              "  </svg>\n",
              "      </button>\n",
              "      \n",
              "  <style>\n",
              "    .colab-df-container {\n",
              "      display:flex;\n",
              "      flex-wrap:wrap;\n",
              "      gap: 12px;\n",
              "    }\n",
              "\n",
              "    .colab-df-convert {\n",
              "      background-color: #E8F0FE;\n",
              "      border: none;\n",
              "      border-radius: 50%;\n",
              "      cursor: pointer;\n",
              "      display: none;\n",
              "      fill: #1967D2;\n",
              "      height: 32px;\n",
              "      padding: 0 0 0 0;\n",
              "      width: 32px;\n",
              "    }\n",
              "\n",
              "    .colab-df-convert:hover {\n",
              "      background-color: #E2EBFA;\n",
              "      box-shadow: 0px 1px 2px rgba(60, 64, 67, 0.3), 0px 1px 3px 1px rgba(60, 64, 67, 0.15);\n",
              "      fill: #174EA6;\n",
              "    }\n",
              "\n",
              "    [theme=dark] .colab-df-convert {\n",
              "      background-color: #3B4455;\n",
              "      fill: #D2E3FC;\n",
              "    }\n",
              "\n",
              "    [theme=dark] .colab-df-convert:hover {\n",
              "      background-color: #434B5C;\n",
              "      box-shadow: 0px 1px 3px 1px rgba(0, 0, 0, 0.15);\n",
              "      filter: drop-shadow(0px 1px 2px rgba(0, 0, 0, 0.3));\n",
              "      fill: #FFFFFF;\n",
              "    }\n",
              "  </style>\n",
              "\n",
              "      <script>\n",
              "        const buttonEl =\n",
              "          document.querySelector('#df-5d120d9d-9ce4-4aab-9fa7-961daf1993f5 button.colab-df-convert');\n",
              "        buttonEl.style.display =\n",
              "          google.colab.kernel.accessAllowed ? 'block' : 'none';\n",
              "\n",
              "        async function convertToInteractive(key) {\n",
              "          const element = document.querySelector('#df-5d120d9d-9ce4-4aab-9fa7-961daf1993f5');\n",
              "          const dataTable =\n",
              "            await google.colab.kernel.invokeFunction('convertToInteractive',\n",
              "                                                     [key], {});\n",
              "          if (!dataTable) return;\n",
              "\n",
              "          const docLinkHtml = 'Like what you see? Visit the ' +\n",
              "            '<a target=\"_blank\" href=https://colab.research.google.com/notebooks/data_table.ipynb>data table notebook</a>'\n",
              "            + ' to learn more about interactive tables.';\n",
              "          element.innerHTML = '';\n",
              "          dataTable['output_type'] = 'display_data';\n",
              "          await google.colab.output.renderOutput(dataTable, element);\n",
              "          const docLink = document.createElement('div');\n",
              "          docLink.innerHTML = docLinkHtml;\n",
              "          element.appendChild(docLink);\n",
              "        }\n",
              "      </script>\n",
              "    </div>\n",
              "  </div>\n",
              "  "
            ]
          },
          "metadata": {},
          "execution_count": 83
        }
      ]
    },
    {
      "cell_type": "code",
      "source": [
        "dados.boxplot(['Valor'])"
      ],
      "metadata": {
        "colab": {
          "base_uri": "https://localhost:8080/",
          "height": 554
        },
        "id": "H0dw01nTcxCe",
        "outputId": "34c2d866-af20-4fc8-ac74-88dc93a29981"
      },
      "execution_count": 84,
      "outputs": [
        {
          "output_type": "execute_result",
          "data": {
            "text/plain": [
              "<Axes: >"
            ]
          },
          "metadata": {},
          "execution_count": 84
        },
        {
          "output_type": "display_data",
          "data": {
            "text/plain": [
              "<Figure size 1200x600 with 1 Axes>"
            ],
            "image/png": "[encoded data removed]"
          },
          "metadata": {}
        }
      ]
    },
    {
      "cell_type": "code",
      "source": [
        "dados[dados['Valor'] >= 500000]"
      ],
      "metadata": {
        "colab": {
          "base_uri": "https://localhost:8080/",
          "height": 206
        },
        "id": "uTo0uQ3GdxMO",
        "outputId": "6ff82fa5-577d-4681-f9a1-c6ef83d8df75"
      },
      "execution_count": 85,
      "outputs": [
        {
          "output_type": "execute_result",
          "data": {
            "text/plain": [
              "                     Tipo                    Bairro  Quartos  Vagas  Suites  \\\n",
              "7731          Apartamento           Barra da Tijuca        1      1       0   \n",
              "10774  Casa de Condomínio   Freguesia (Jacarepaguá)        4      2       3   \n",
              "12822         Apartamento   Freguesia (Jacarepaguá)        2      2       1   \n",
              "14023         Apartamento  Recreio dos Bandeirantes        3      2       1   \n",
              "15715         Apartamento                  Botafogo        4      1       1   \n",
              "\n",
              "       Area      Valor  Condominio   IPTU  Valor m2 Tipo Agregado  \n",
              "7731     65   600000.0       980.0  120.0   9230.77   Apartamento  \n",
              "10774   163   800000.0       900.0    0.0   4907.98   Apartamento  \n",
              "12822   150   550000.0       850.0  150.0   3666.67   Apartamento  \n",
              "14023   167  1250000.0      1186.0  320.0   7485.03   Apartamento  \n",
              "15715   300  4500000.0      1100.0    0.0  15000.00   Apartamento  "
            ],
            "text/html": [
              "\n",
              "  <div id=\"df-c71c3435-2b80-48ff-bbf6-de8a4e20029d\">\n",
              "    <div class=\"colab-df-container\">\n",
              "      <div>\n",
              "<style scoped>\n",
              "    .dataframe tbody tr th:only-of-type {\n",
              "        vertical-align: middle;\n",
              "    }\n",
              "\n",
              "    .dataframe tbody tr th {\n",
              "        vertical-align: top;\n",
              "    }\n",
              "\n",
              "    .dataframe thead th {\n",
              "        text-align: right;\n",
              "    }\n",
              "</style>\n",
              "<table border=\"1\" class=\"dataframe\">\n",
              "  <thead>\n",
              "    <tr style=\"text-align: right;\">\n",
              "      <th></th>\n",
              "      <th>Tipo</th>\n",
              "      <th>Bairro</th>\n",
              "      <th>Quartos</th>\n",
              "      <th>Vagas</th>\n",
              "      <th>Suites</th>\n",
              "      <th>Area</th>\n",
              "      <th>Valor</th>\n",
              "      <th>Condominio</th>\n",
              "      <th>IPTU</th>\n",
              "      <th>Valor m2</th>\n",
              "      <th>Tipo Agregado</th>\n",
              "    </tr>\n",
              "  </thead>\n",
              "  <tbody>\n",
              "    <tr>\n",
              "      <th>7731</th>\n",
              "      <td>Apartamento</td>\n",
              "      <td>Barra da Tijuca</td>\n",
              "      <td>1</td>\n",
              "      <td>1</td>\n",
              "      <td>0</td>\n",
              "      <td>65</td>\n",
              "      <td>600000.0</td>\n",
              "      <td>980.0</td>\n",
              "      <td>120.0</td>\n",
              "      <td>9230.77</td>\n",
              "      <td>Apartamento</td>\n",
              "    </tr>\n",
              "    <tr>\n",
              "      <th>10774</th>\n",
              "      <td>Casa de Condomínio</td>\n",
              "      <td>Freguesia (Jacarepaguá)</td>\n",
              "      <td>4</td>\n",
              "      <td>2</td>\n",
              "      <td>3</td>\n",
              "      <td>163</td>\n",
              "      <td>800000.0</td>\n",
              "      <td>900.0</td>\n",
              "      <td>0.0</td>\n",
              "      <td>4907.98</td>\n",
              "      <td>Apartamento</td>\n",
              "    </tr>\n",
              "    <tr>\n",
              "      <th>12822</th>\n",
              "      <td>Apartamento</td>\n",
              "      <td>Freguesia (Jacarepaguá)</td>\n",
              "      <td>2</td>\n",
              "      <td>2</td>\n",
              "      <td>1</td>\n",
              "      <td>150</td>\n",
              "      <td>550000.0</td>\n",
              "      <td>850.0</td>\n",
              "      <td>150.0</td>\n",
              "      <td>3666.67</td>\n",
              "      <td>Apartamento</td>\n",
              "    </tr>\n",
              "    <tr>\n",
              "      <th>14023</th>\n",
              "      <td>Apartamento</td>\n",
              "      <td>Recreio dos Bandeirantes</td>\n",
              "      <td>3</td>\n",
              "      <td>2</td>\n",
              "      <td>1</td>\n",
              "      <td>167</td>\n",
              "      <td>1250000.0</td>\n",
              "      <td>1186.0</td>\n",
              "      <td>320.0</td>\n",
              "      <td>7485.03</td>\n",
              "      <td>Apartamento</td>\n",
              "    </tr>\n",
              "    <tr>\n",
              "      <th>15715</th>\n",
              "      <td>Apartamento</td>\n",
              "      <td>Botafogo</td>\n",
              "      <td>4</td>\n",
              "      <td>1</td>\n",
              "      <td>1</td>\n",
              "      <td>300</td>\n",
              "      <td>4500000.0</td>\n",
              "      <td>1100.0</td>\n",
              "      <td>0.0</td>\n",
              "      <td>15000.00</td>\n",
              "      <td>Apartamento</td>\n",
              "    </tr>\n",
              "  </tbody>\n",
              "</table>\n",
              "</div>\n",
              "      <button class=\"colab-df-convert\" onclick=\"convertToInteractive('df-c71c3435-2b80-48ff-bbf6-de8a4e20029d')\"\n",
              "              title=\"Convert this dataframe to an interactive table.\"\n",
              "              style=\"display:none;\">\n",
              "        \n",
              "  <svg xmlns=\"http://www.w3.org/2000/svg\" height=\"24px\"viewBox=\"0 0 24 24\"\n",
              "       width=\"24px\">\n",
              "    <path d=\"M0 0h24v24H0V0z\" fill=\"none\"/>\n",
              "    <path d=\"M18.56 5.44l.94 2.06.94-2.06 2.06-.94-2.06-.94-.94-2.06-.94 2.06-2.06.94zm-11 1L8.5 8.5l.94-2.06 2.06-.94-2.06-.94L8.5 2.5l-.94 2.06-2.06.94zm10 10l.94 2.06.94-2.06 2.06-.94-2.06-.94-.94-2.06-.94 2.06-2.06.94z\"/><path d=\"M17.41 7.96l-1.37-1.37c-.4-.4-.92-.59-1.43-.59-.52 0-1.04.2-1.43.59L10.3 9.45l-7.72 7.72c-.78.78-.78 2.05 0 2.83L4 21.41c.39.39.9.59 1.41.59.51 0 1.02-.2 1.41-.59l7.78-7.78 2.81-2.81c.8-.78.8-2.07 0-2.86zM5.41 20L4 18.59l7.72-7.72 1.47 1.35L5.41 20z\"/>\n",
              "  </svg>\n",
              "      </button>\n",
              "      \n",
              "  <style>\n",
              "    .colab-df-container {\n",
              "      display:flex;\n",
              "      flex-wrap:wrap;\n",
              "      gap: 12px;\n",
              "    }\n",
              "\n",
              "    .colab-df-convert {\n",
              "      background-color: #E8F0FE;\n",
              "      border: none;\n",
              "      border-radius: 50%;\n",
              "      cursor: pointer;\n",
              "      display: none;\n",
              "      fill: #1967D2;\n",
              "      height: 32px;\n",
              "      padding: 0 0 0 0;\n",
              "      width: 32px;\n",
              "    }\n",
              "\n",
              "    .colab-df-convert:hover {\n",
              "      background-color: #E2EBFA;\n",
              "      box-shadow: 0px 1px 2px rgba(60, 64, 67, 0.3), 0px 1px 3px 1px rgba(60, 64, 67, 0.15);\n",
              "      fill: #174EA6;\n",
              "    }\n",
              "\n",
              "    [theme=dark] .colab-df-convert {\n",
              "      background-color: #3B4455;\n",
              "      fill: #D2E3FC;\n",
              "    }\n",
              "\n",
              "    [theme=dark] .colab-df-convert:hover {\n",
              "      background-color: #434B5C;\n",
              "      box-shadow: 0px 1px 3px 1px rgba(0, 0, 0, 0.15);\n",
              "      filter: drop-shadow(0px 1px 2px rgba(0, 0, 0, 0.3));\n",
              "      fill: #FFFFFF;\n",
              "    }\n",
              "  </style>\n",
              "\n",
              "      <script>\n",
              "        const buttonEl =\n",
              "          document.querySelector('#df-c71c3435-2b80-48ff-bbf6-de8a4e20029d button.colab-df-convert');\n",
              "        buttonEl.style.display =\n",
              "          google.colab.kernel.accessAllowed ? 'block' : 'none';\n",
              "\n",
              "        async function convertToInteractive(key) {\n",
              "          const element = document.querySelector('#df-c71c3435-2b80-48ff-bbf6-de8a4e20029d');\n",
              "          const dataTable =\n",
              "            await google.colab.kernel.invokeFunction('convertToInteractive',\n",
              "                                                     [key], {});\n",
              "          if (!dataTable) return;\n",
              "\n",
              "          const docLinkHtml = 'Like what you see? Visit the ' +\n",
              "            '<a target=\"_blank\" href=https://colab.research.google.com/notebooks/data_table.ipynb>data table notebook</a>'\n",
              "            + ' to learn more about interactive tables.';\n",
              "          element.innerHTML = '';\n",
              "          dataTable['output_type'] = 'display_data';\n",
              "          await google.colab.output.renderOutput(dataTable, element);\n",
              "          const docLink = document.createElement('div');\n",
              "          docLink.innerHTML = docLinkHtml;\n",
              "          element.appendChild(docLink);\n",
              "        }\n",
              "      </script>\n",
              "    </div>\n",
              "  </div>\n",
              "  "
            ]
          },
          "metadata": {},
          "execution_count": 85
        }
      ]
    },
    {
      "cell_type": "code",
      "source": [
        "valor = dados['Valor']"
      ],
      "metadata": {
        "id": "neT7L9bqfx2G"
      },
      "execution_count": 86,
      "outputs": []
    },
    {
      "cell_type": "markdown",
      "source": [
        "![box-plot.png](data:image/png;base64,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)"
      ],
      "metadata": {
        "id": "WrexQxGYfY79"
      }
    },
    {
      "cell_type": "code",
      "source": [
        "Q1 = valor.quantile(.25)\n",
        "Q3 = valor.quantile(.75)\n",
        "IIQ = Q3 - Q1\n",
        "limite_inferior = Q1 - 1.5 * IIQ\n",
        "limite_superior = Q3 + 1.5 * IIQ"
      ],
      "metadata": {
        "id": "9fe-kkY5fueG"
      },
      "execution_count": 87,
      "outputs": []
    },
    {
      "cell_type": "code",
      "source": [
        "selecao = (valor >= limite_inferior) & (valor <= limite_superior)\n",
        "dados_new = dados[selecao]\n",
        "dados_new"
      ],
      "metadata": {
        "colab": {
          "base_uri": "https://localhost:8080/",
          "height": 424
        },
        "id": "56j22Q8vgUTQ",
        "outputId": "2acdb13b-e3a7-42f2-9829-01fa36e24881"
      },
      "execution_count": 88,
      "outputs": [
        {
          "output_type": "execute_result",
          "data": {
            "text/plain": [
              "              Tipo                Bairro  Quartos  Vagas  Suites  Area  \\\n",
              "0        Quitinete            Copacabana        1      0       0    40   \n",
              "1             Casa       Jardim Botânico        2      0       1   100   \n",
              "2      Apartamento                Centro        1      0       0    15   \n",
              "3      Apartamento          Higienópolis        1      0       0    48   \n",
              "4      Apartamento              Cachambi        2      0       0    50   \n",
              "...            ...                   ...      ...    ...     ...   ...   \n",
              "22086  Apartamento                 Méier        2      0       0    70   \n",
              "22087    Quitinete                Centro        0      0       0    27   \n",
              "22088  Apartamento           Jacarepaguá        3      1       2    78   \n",
              "22089  Apartamento  São Francisco Xavier        2      1       0    48   \n",
              "22090  Apartamento                Leblon        2      0       0    70   \n",
              "\n",
              "        Valor  Condominio  IPTU  Valor m2 Tipo Agregado  \n",
              "0      1700.0       500.0  60.0     42.50   Apartamento  \n",
              "1      7000.0         0.0   0.0     70.00          Casa  \n",
              "2       800.0       390.0  20.0     53.33   Apartamento  \n",
              "3       800.0       230.0   0.0     16.67   Apartamento  \n",
              "4      1300.0       301.0  17.0     26.00   Apartamento  \n",
              "...       ...         ...   ...       ...           ...  \n",
              "22086   900.0       490.0  48.0     12.86   Apartamento  \n",
              "22087   800.0       350.0  25.0     29.63   Apartamento  \n",
              "22088  1800.0       800.0  40.0     23.08   Apartamento  \n",
              "22089  1400.0       509.0  37.0     29.17   Apartamento  \n",
              "22090  3000.0       760.0   0.0     42.86   Apartamento  \n",
              "\n",
              "[19938 rows x 11 columns]"
            ],
            "text/html": [
              "\n",
              "  <div id=\"df-7f97250b-d8f7-4768-87af-efabc82b917e\">\n",
              "    <div class=\"colab-df-container\">\n",
              "      <div>\n",
              "<style scoped>\n",
              "    .dataframe tbody tr th:only-of-type {\n",
              "        vertical-align: middle;\n",
              "    }\n",
              "\n",
              "    .dataframe tbody tr th {\n",
              "        vertical-align: top;\n",
              "    }\n",
              "\n",
              "    .dataframe thead th {\n",
              "        text-align: right;\n",
              "    }\n",
              "</style>\n",
              "<table border=\"1\" class=\"dataframe\">\n",
              "  <thead>\n",
              "    <tr style=\"text-align: right;\">\n",
              "      <th></th>\n",
              "      <th>Tipo</th>\n",
              "      <th>Bairro</th>\n",
              "      <th>Quartos</th>\n",
              "      <th>Vagas</th>\n",
              "      <th>Suites</th>\n",
              "      <th>Area</th>\n",
              "      <th>Valor</th>\n",
              "      <th>Condominio</th>\n",
              "      <th>IPTU</th>\n",
              "      <th>Valor m2</th>\n",
              "      <th>Tipo Agregado</th>\n",
              "    </tr>\n",
              "  </thead>\n",
              "  <tbody>\n",
              "    <tr>\n",
              "      <th>0</th>\n",
              "      <td>Quitinete</td>\n",
              "      <td>Copacabana</td>\n",
              "      <td>1</td>\n",
              "      <td>0</td>\n",
              "      <td>0</td>\n",
              "      <td>40</td>\n",
              "      <td>1700.0</td>\n",
              "      <td>500.0</td>\n",
              "      <td>60.0</td>\n",
              "      <td>42.50</td>\n",
              "      <td>Apartamento</td>\n",
              "    </tr>\n",
              "    <tr>\n",
              "      <th>1</th>\n",
              "      <td>Casa</td>\n",
              "      <td>Jardim Botânico</td>\n",
              "      <td>2</td>\n",
              "      <td>0</td>\n",
              "      <td>1</td>\n",
              "      <td>100</td>\n",
              "      <td>7000.0</td>\n",
              "      <td>0.0</td>\n",
              "      <td>0.0</td>\n",
              "      <td>70.00</td>\n",
              "      <td>Casa</td>\n",
              "    </tr>\n",
              "    <tr>\n",
              "      <th>2</th>\n",
              "      <td>Apartamento</td>\n",
              "      <td>Centro</td>\n",
              "      <td>1</td>\n",
              "      <td>0</td>\n",
              "      <td>0</td>\n",
              "      <td>15</td>\n",
              "      <td>800.0</td>\n",
              "      <td>390.0</td>\n",
              "      <td>20.0</td>\n",
              "      <td>53.33</td>\n",
              "      <td>Apartamento</td>\n",
              "    </tr>\n",
              "    <tr>\n",
              "      <th>3</th>\n",
              "      <td>Apartamento</td>\n",
              "      <td>Higienópolis</td>\n",
              "      <td>1</td>\n",
              "      <td>0</td>\n",
              "      <td>0</td>\n",
              "      <td>48</td>\n",
              "      <td>800.0</td>\n",
              "      <td>230.0</td>\n",
              "      <td>0.0</td>\n",
              "      <td>16.67</td>\n",
              "      <td>Apartamento</td>\n",
              "    </tr>\n",
              "    <tr>\n",
              "      <th>4</th>\n",
              "      <td>Apartamento</td>\n",
              "      <td>Cachambi</td>\n",
              "      <td>2</td>\n",
              "      <td>0</td>\n",
              "      <td>0</td>\n",
              "      <td>50</td>\n",
              "      <td>1300.0</td>\n",
              "      <td>301.0</td>\n",
              "      <td>17.0</td>\n",
              "      <td>26.00</td>\n",
              "      <td>Apartamento</td>\n",
              "    </tr>\n",
              "    <tr>\n",
              "      <th>...</th>\n",
              "      <td>...</td>\n",
              "      <td>...</td>\n",
              "      <td>...</td>\n",
              "      <td>...</td>\n",
              "      <td>...</td>\n",
              "      <td>...</td>\n",
              "      <td>...</td>\n",
              "      <td>...</td>\n",
              "      <td>...</td>\n",
              "      <td>...</td>\n",
              "      <td>...</td>\n",
              "    </tr>\n",
              "    <tr>\n",
              "      <th>22086</th>\n",
              "      <td>Apartamento</td>\n",
              "      <td>Méier</td>\n",
              "      <td>2</td>\n",
              "      <td>0</td>\n",
              "      <td>0</td>\n",
              "      <td>70</td>\n",
              "      <td>900.0</td>\n",
              "      <td>490.0</td>\n",
              "      <td>48.0</td>\n",
              "      <td>12.86</td>\n",
              "      <td>Apartamento</td>\n",
              "    </tr>\n",
              "    <tr>\n",
              "      <th>22087</th>\n",
              "      <td>Quitinete</td>\n",
              "      <td>Centro</td>\n",
              "      <td>0</td>\n",
              "      <td>0</td>\n",
              "      <td>0</td>\n",
              "      <td>27</td>\n",
              "      <td>800.0</td>\n",
              "      <td>350.0</td>\n",
              "      <td>25.0</td>\n",
              "      <td>29.63</td>\n",
              "      <td>Apartamento</td>\n",
              "    </tr>\n",
              "    <tr>\n",
              "      <th>22088</th>\n",
              "      <td>Apartamento</td>\n",
              "      <td>Jacarepaguá</td>\n",
              "      <td>3</td>\n",
              "      <td>1</td>\n",
              "      <td>2</td>\n",
              "      <td>78</td>\n",
              "      <td>1800.0</td>\n",
              "      <td>800.0</td>\n",
              "      <td>40.0</td>\n",
              "      <td>23.08</td>\n",
              "      <td>Apartamento</td>\n",
              "    </tr>\n",
              "    <tr>\n",
              "      <th>22089</th>\n",
              "      <td>Apartamento</td>\n",
              "      <td>São Francisco Xavier</td>\n",
              "      <td>2</td>\n",
              "      <td>1</td>\n",
              "      <td>0</td>\n",
              "      <td>48</td>\n",
              "      <td>1400.0</td>\n",
              "      <td>509.0</td>\n",
              "      <td>37.0</td>\n",
              "      <td>29.17</td>\n",
              "      <td>Apartamento</td>\n",
              "    </tr>\n",
              "    <tr>\n",
              "      <th>22090</th>\n",
              "      <td>Apartamento</td>\n",
              "      <td>Leblon</td>\n",
              "      <td>2</td>\n",
              "      <td>0</td>\n",
              "      <td>0</td>\n",
              "      <td>70</td>\n",
              "      <td>3000.0</td>\n",
              "      <td>760.0</td>\n",
              "      <td>0.0</td>\n",
              "      <td>42.86</td>\n",
              "      <td>Apartamento</td>\n",
              "    </tr>\n",
              "  </tbody>\n",
              "</table>\n",
              "<p>19938 rows × 11 columns</p>\n",
              "</div>\n",
              "      <button class=\"colab-df-convert\" onclick=\"convertToInteractive('df-7f97250b-d8f7-4768-87af-efabc82b917e')\"\n",
              "              title=\"Convert this dataframe to an interactive table.\"\n",
              "              style=\"display:none;\">\n",
              "        \n",
              "  <svg xmlns=\"http://www.w3.org/2000/svg\" height=\"24px\"viewBox=\"0 0 24 24\"\n",
              "       width=\"24px\">\n",
              "    <path d=\"M0 0h24v24H0V0z\" fill=\"none\"/>\n",
              "    <path d=\"M18.56 5.44l.94 2.06.94-2.06 2.06-.94-2.06-.94-.94-2.06-.94 2.06-2.06.94zm-11 1L8.5 8.5l.94-2.06 2.06-.94-2.06-.94L8.5 2.5l-.94 2.06-2.06.94zm10 10l.94 2.06.94-2.06 2.06-.94-2.06-.94-.94-2.06-.94 2.06-2.06.94z\"/><path d=\"M17.41 7.96l-1.37-1.37c-.4-.4-.92-.59-1.43-.59-.52 0-1.04.2-1.43.59L10.3 9.45l-7.72 7.72c-.78.78-.78 2.05 0 2.83L4 21.41c.39.39.9.59 1.41.59.51 0 1.02-.2 1.41-.59l7.78-7.78 2.81-2.81c.8-.78.8-2.07 0-2.86zM5.41 20L4 18.59l7.72-7.72 1.47 1.35L5.41 20z\"/>\n",
              "  </svg>\n",
              "      </button>\n",
              "      \n",
              "  <style>\n",
              "    .colab-df-container {\n",
              "      display:flex;\n",
              "      flex-wrap:wrap;\n",
              "      gap: 12px;\n",
              "    }\n",
              "\n",
              "    .colab-df-convert {\n",
              "      background-color: #E8F0FE;\n",
              "      border: none;\n",
              "      border-radius: 50%;\n",
              "      cursor: pointer;\n",
              "      display: none;\n",
              "      fill: #1967D2;\n",
              "      height: 32px;\n",
              "      padding: 0 0 0 0;\n",
              "      width: 32px;\n",
              "    }\n",
              "\n",
              "    .colab-df-convert:hover {\n",
              "      background-color: #E2EBFA;\n",
              "      box-shadow: 0px 1px 2px rgba(60, 64, 67, 0.3), 0px 1px 3px 1px rgba(60, 64, 67, 0.15);\n",
              "      fill: #174EA6;\n",
              "    }\n",
              "\n",
              "    [theme=dark] .colab-df-convert {\n",
              "      background-color: #3B4455;\n",
              "      fill: #D2E3FC;\n",
              "    }\n",
              "\n",
              "    [theme=dark] .colab-df-convert:hover {\n",
              "      background-color: #434B5C;\n",
              "      box-shadow: 0px 1px 3px 1px rgba(0, 0, 0, 0.15);\n",
              "      filter: drop-shadow(0px 1px 2px rgba(0, 0, 0, 0.3));\n",
              "      fill: #FFFFFF;\n",
              "    }\n",
              "  </style>\n",
              "\n",
              "      <script>\n",
              "        const buttonEl =\n",
              "          document.querySelector('#df-7f97250b-d8f7-4768-87af-efabc82b917e button.colab-df-convert');\n",
              "        buttonEl.style.display =\n",
              "          google.colab.kernel.accessAllowed ? 'block' : 'none';\n",
              "\n",
              "        async function convertToInteractive(key) {\n",
              "          const element = document.querySelector('#df-7f97250b-d8f7-4768-87af-efabc82b917e');\n",
              "          const dataTable =\n",
              "            await google.colab.kernel.invokeFunction('convertToInteractive',\n",
              "                                                     [key], {});\n",
              "          if (!dataTable) return;\n",
              "\n",
              "          const docLinkHtml = 'Like what you see? Visit the ' +\n",
              "            '<a target=\"_blank\" href=https://colab.research.google.com/notebooks/data_table.ipynb>data table notebook</a>'\n",
              "            + ' to learn more about interactive tables.';\n",
              "          element.innerHTML = '';\n",
              "          dataTable['output_type'] = 'display_data';\n",
              "          await google.colab.output.renderOutput(dataTable, element);\n",
              "          const docLink = document.createElement('div');\n",
              "          docLink.innerHTML = docLinkHtml;\n",
              "          element.appendChild(docLink);\n",
              "        }\n",
              "      </script>\n",
              "    </div>\n",
              "  </div>\n",
              "  "
            ]
          },
          "metadata": {},
          "execution_count": 88
        }
      ]
    },
    {
      "cell_type": "code",
      "source": [
        "dados_new.boxplot(['Valor'])"
      ],
      "metadata": {
        "colab": {
          "base_uri": "https://localhost:8080/",
          "height": 539
        },
        "id": "noTM0zi8giNX",
        "outputId": "bc16238b-ad7e-4ab8-971b-5a4692eb7f18"
      },
      "execution_count": 89,
      "outputs": [
        {
          "output_type": "execute_result",
          "data": {
            "text/plain": [
              "<Axes: >"
            ]
          },
          "metadata": {},
          "execution_count": 89
        },
        {
          "output_type": "display_data",
          "data": {
            "text/plain": [
              "<Figure size 1200x600 with 1 Axes>"
            ],
            "image/png": "[encoded data removed]"
          },
          "metadata": {}
        }
      ]
    },
    {
      "cell_type": "code",
      "source": [
        "dados.hist(['Valor'])"
      ],
      "metadata": {
        "colab": {
          "base_uri": "https://localhost:8080/",
          "height": 580
        },
        "id": "dVwRA_gJg5Wt",
        "outputId": "bb0e931a-c872-449c-b983-5330f407a467"
      },
      "execution_count": 90,
      "outputs": [
        {
          "output_type": "execute_result",
          "data": {
            "text/plain": [
              "array([[<Axes: title={'center': 'Valor'}>]], dtype=object)"
            ]
          },
          "metadata": {},
          "execution_count": 90
        },
        {
          "output_type": "display_data",
          "data": {
            "text/plain": [
              "<Figure size 1200x600 with 1 Axes>"
            ],
            "image/png": "[encoded data removed]"
          },
          "metadata": {}
        }
      ]
    },
    {
      "cell_type": "code",
      "source": [
        "dados_new.hist(['Valor'])"
      ],
      "metadata": {
        "colab": {
          "base_uri": "https://localhost:8080/",
          "height": 562
        },
        "id": "vEPncQsihK3O",
        "outputId": "ccbe8710-0b58-40cc-a857-4954542eed13"
      },
      "execution_count": 91,
      "outputs": [
        {
          "output_type": "execute_result",
          "data": {
            "text/plain": [
              "array([[<Axes: title={'center': 'Valor'}>]], dtype=object)"
            ]
          },
          "metadata": {},
          "execution_count": 91
        },
        {
          "output_type": "display_data",
          "data": {
            "text/plain": [
              "<Figure size 1200x600 with 1 Axes>"
            ],
            "image/png": "[encoded data removed]"
          },
          "metadata": {}
        }
      ]
    },
    {
      "cell_type": "markdown",
      "source": [
        "## Identificando e Removendo Outliers (continuação)"
      ],
      "metadata": {
        "id": "q4Mz9MjwiONH"
      }
    },
    {
      "cell_type": "code",
      "source": [
        "dados.boxplot(['Valor'], by = ['Tipo'])"
      ],
      "metadata": {
        "colab": {
          "base_uri": "https://localhost:8080/",
          "height": 595
        },
        "id": "e3uW9A7wiPwV",
        "outputId": "49534ffb-8f82-4342-a1ea-654efbf249f0"
      },
      "execution_count": 92,
      "outputs": [
        {
          "output_type": "execute_result",
          "data": {
            "text/plain": [
              "<Axes: title={'center': 'Valor'}, xlabel='[Tipo]'>"
            ]
          },
          "metadata": {},
          "execution_count": 92
        },
        {
          "output_type": "display_data",
          "data": {
            "text/plain": [
              "<Figure size 1200x600 with 1 Axes>"
            ],
            "image/png": "[encoded data removed]"
          },
          "metadata": {}
        }
      ]
    },
    {
      "cell_type": "code",
      "source": [
        "grupo_tipo = dados.groupby('Tipo')['Valor']"
      ],
      "metadata": {
        "id": "uRiouoDSkBH3"
      },
      "execution_count": 93,
      "outputs": []
    },
    {
      "cell_type": "code",
      "source": [
        "type(grupo_tipo)"
      ],
      "metadata": {
        "colab": {
          "base_uri": "https://localhost:8080/"
        },
        "id": "k-95vftskE6b",
        "outputId": "2ecdf098-4433-4dc3-fbd7-49ca89a10c47"
      },
      "execution_count": 94,
      "outputs": [
        {
          "output_type": "execute_result",
          "data": {
            "text/plain": [
              "pandas.core.groupby.generic.SeriesGroupBy"
            ]
          },
          "metadata": {},
          "execution_count": 94
        }
      ]
    },
    {
      "cell_type": "code",
      "source": [
        "grupo_tipo.groups"
      ],
      "metadata": {
        "colab": {
          "base_uri": "https://localhost:8080/"
        },
        "id": "6U9Osuq6kLf0",
        "outputId": "7b7b5ecb-d223-440b-8cb1-408087e1d587"
      },
      "execution_count": 95,
      "outputs": [
        {
          "output_type": "execute_result",
          "data": {
            "text/plain": [
              "{'Apartamento': [2, 3, 4, 7, 8, 9, 11, 13, 14, 15, 17, 18, 19, 20, 21, 23, 24, 25, 26, 27, 29, 30, 31, 32, 33, 34, 35, 36, 37, 38, 39, 40, 41, 43, 44, 45, 46, 47, 48, 49, 50, 51, 52, 53, 55, 56, 60, 61, 62, 63, 64, 65, 66, 67, 68, 69, 70, 71, 73, 74, 75, 76, 77, 78, 80, 81, 83, 84, 85, 86, 88, 89, 90, 91, 92, 93, 94, 95, 96, 98, 99, 100, 103, 104, 105, 106, 107, 108, 109, 110, 111, 112, 113, 114, 115, 116, 117, 118, 119, 120, ...], 'Casa': [1, 22, 54, 57, 97, 101, 146, 162, 182, 241, 253, 256, 267, 289, 313, 319, 338, 343, 361, 382, 389, 403, 428, 438, 479, 480, 486, 517, 548, 549, 574, 579, 580, 626, 630, 639, 644, 645, 670, 686, 710, 731, 734, 771, 782, 792, 869, 886, 953, 999, 1046, 1053, 1136, 1141, 1143, 1175, 1196, 1268, 1275, 1336, 1355, 1370, 1391, 1434, 1448, 1452, 1463, 1468, 1495, 1498, 1511, 1611, 1629, 1681, 1687, 1691, 1696, 1709, 1734, 1742, 1787, 1836, 1861, 1901, 1931, 1959, 1968, 1987, 2046, 2066, 2083, 2102, 2128, 2134, 2135, 2160, 2198, 2229, 2232, 2239, ...], 'Casa Comercial': [58, 138, 195, 327, 454, 491, 565, 578, 627, 649, 768, 784, 828, 910, 912, 914, 975, 1061, 1206, 1317, 1401, 1423, 1457, 1521, 1536, 1790, 1976, 2194, 2522, 2549, 2569, 2618, 2626, 2669, 2696, 2832, 2904, 2979, 3135, 3146, 3159, 3249, 3324, 3376, 3378, 3389, 3398, 3613, 3881, 3934, 3994, 4038, 4049, 4510, 4594, 4791, 4818, 4875, 4953, 4980, 5010, 5069, 5092, 5124, 5272, 5326, 5330, 5331, 5399, 5429, 5554, 5673, 5748, 5757, 5826, 5958, 5970, 6044, 6052, 6083, 6209, 6217, 6268, 6314, 6453, 6455, 6534, 6535, 6555, 6682, 6697, 6821, 6848, 6934, 6986, 7210, 7241, 7345, 7436, 7446, ...], 'Casa de Condomínio': [5, 6, 12, 16, 42, 59, 168, 170, 185, 210, 225, 249, 262, 268, 282, 294, 311, 340, 395, 405, 444, 449, 453, 508, 562, 617, 631, 667, 673, 683, 717, 733, 793, 819, 821, 876, 896, 900, 950, 974, 978, 996, 1003, 1009, 1021, 1025, 1045, 1100, 1113, 1130, 1147, 1166, 1176, 1200, 1239, 1246, 1248, 1258, 1265, 1328, 1332, 1340, 1361, 1376, 1428, 1461, 1462, 1490, 1518, 1556, 1585, 1607, 1626, 1640, 1671, 1738, 1747, 1753, 1781, 1789, 1796, 1828, 1886, 1906, 1909, 1925, 1964, 2058, 2060, 2098, 2179, 2196, 2228, 2252, 2274, 2276, 2355, 2361, 2385, 2399, ...], 'Casa de Vila': [82, 215, 223, 306, 336, 707, 835, 857, 934, 1029, 1373, 1382, 1470, 1514, 1578, 1664, 1694, 1728, 1795, 2114, 2277, 2295, 2474, 2563, 2578, 2638, 2675, 2762, 2876, 2909, 3015, 3022, 3055, 3063, 3343, 3473, 3570, 3751, 3871, 3904, 3907, 3912, 4147, 4199, 4206, 4218, 4393, 4497, 4884, 5215, 5234, 5239, 5262, 5362, 5480, 5606, 5668, 5798, 5825, 5988, 6027, 6074, 6088, 6111, 6129, 6284, 6320, 6384, 6432, 6488, 6515, 6846, 6888, 7034, 7052, 7128, 7186, 7243, 7394, 7800, 7815, 7881, 7940, 7946, 8071, 8107, 8241, 8536, 8562, 8690, 9346, 9351, 9439, 9597, 9741, 9746, 9838, 9861, 9910, 9994, ...], 'Quitinete': [0, 10, 28, 72, 79, 87, 102, 121, 148, 176, 193, 209, 226, 251, 304, 317, 331, 348, 359, 429, 430, 431, 465, 492, 538, 642, 660, 690, 820, 883, 933, 935, 940, 944, 955, 960, 987, 1018, 1033, 1062, 1088, 1174, 1188, 1190, 1202, 1211, 1215, 1231, 1236, 1280, 1293, 1354, 1371, 1380, 1414, 1426, 1429, 1506, 1519, 1534, 1568, 1620, 1636, 1638, 1658, 1721, 1722, 1731, 1758, 1778, 1798, 1850, 1865, 1879, 1936, 2040, 2112, 2125, 2152, 2169, 2176, 2183, 2187, 2255, 2265, 2267, 2286, 2300, 2354, 2390, 2410, 2411, 2412, 2422, 2473, 2485, 2490, 2521, 2536, 2663, ...]}"
            ]
          },
          "metadata": {},
          "execution_count": 95
        }
      ]
    },
    {
      "cell_type": "code",
      "source": [
        "Q1 =  grupo_tipo.quantile(.25)\n",
        "Q3 =  grupo_tipo.quantile(.75)\n",
        "IIQ = Q3 - Q1\n",
        "limite_inferior = Q1 - 1.5 * IIQ\n",
        "limite_superior = Q3 + 1.5 * IIQ"
      ],
      "metadata": {
        "id": "c2jNCut1kmOc"
      },
      "execution_count": 96,
      "outputs": []
    },
    {
      "cell_type": "code",
      "source": [
        "Q1"
      ],
      "metadata": {
        "colab": {
          "base_uri": "https://localhost:8080/"
        },
        "id": "WvOpT2umkonE",
        "outputId": "cf416378-9b5a-468d-8827-6f64ad82f8e6"
      },
      "execution_count": 97,
      "outputs": [
        {
          "output_type": "execute_result",
          "data": {
            "text/plain": [
              "Tipo\n",
              "Apartamento           1700.0\n",
              "Casa                  1100.0\n",
              "Casa Comercial        6000.0\n",
              "Casa de Condomínio    4000.0\n",
              "Casa de Vila           750.0\n",
              "Quitinete              900.0\n",
              "Name: Valor, dtype: float64"
            ]
          },
          "metadata": {},
          "execution_count": 97
        }
      ]
    },
    {
      "cell_type": "code",
      "source": [
        "Q3"
      ],
      "metadata": {
        "colab": {
          "base_uri": "https://localhost:8080/"
        },
        "id": "wYRgSrQakppM",
        "outputId": "983fa559-45ac-42f7-e925-7372b49c0385"
      },
      "execution_count": 98,
      "outputs": [
        {
          "output_type": "execute_result",
          "data": {
            "text/plain": [
              "Tipo\n",
              "Apartamento            5000.0\n",
              "Casa                   9800.0\n",
              "Casa Comercial        18000.0\n",
              "Casa de Condomínio    15250.0\n",
              "Casa de Vila           1800.0\n",
              "Quitinete              1500.0\n",
              "Name: Valor, dtype: float64"
            ]
          },
          "metadata": {},
          "execution_count": 98
        }
      ]
    },
    {
      "cell_type": "code",
      "source": [
        "IIQ"
      ],
      "metadata": {
        "colab": {
          "base_uri": "https://localhost:8080/"
        },
        "id": "KKsJEzsPkqwz",
        "outputId": "1194062d-6e89-47a4-e0b1-290be3868654"
      },
      "execution_count": 99,
      "outputs": [
        {
          "output_type": "execute_result",
          "data": {
            "text/plain": [
              "Tipo\n",
              "Apartamento            3300.0\n",
              "Casa                   8700.0\n",
              "Casa Comercial        12000.0\n",
              "Casa de Condomínio    11250.0\n",
              "Casa de Vila           1050.0\n",
              "Quitinete               600.0\n",
              "Name: Valor, dtype: float64"
            ]
          },
          "metadata": {},
          "execution_count": 99
        }
      ]
    },
    {
      "cell_type": "code",
      "source": [
        "limite_inferior"
      ],
      "metadata": {
        "colab": {
          "base_uri": "https://localhost:8080/"
        },
        "id": "9vomvTVBksXL",
        "outputId": "8c44ac4b-877b-4bba-d556-85ab0d6cb450"
      },
      "execution_count": 100,
      "outputs": [
        {
          "output_type": "execute_result",
          "data": {
            "text/plain": [
              "Tipo\n",
              "Apartamento           -3250.0\n",
              "Casa                 -11950.0\n",
              "Casa Comercial       -12000.0\n",
              "Casa de Condomínio   -12875.0\n",
              "Casa de Vila           -825.0\n",
              "Quitinete                 0.0\n",
              "Name: Valor, dtype: float64"
            ]
          },
          "metadata": {},
          "execution_count": 100
        }
      ]
    },
    {
      "cell_type": "code",
      "source": [
        "limite_superior"
      ],
      "metadata": {
        "colab": {
          "base_uri": "https://localhost:8080/"
        },
        "id": "46vd0nOnktwz",
        "outputId": "fa95d337-4755-4408-a959-e3b189211d5f"
      },
      "execution_count": 101,
      "outputs": [
        {
          "output_type": "execute_result",
          "data": {
            "text/plain": [
              "Tipo\n",
              "Apartamento            9950.0\n",
              "Casa                  22850.0\n",
              "Casa Comercial        36000.0\n",
              "Casa de Condomínio    32125.0\n",
              "Casa de Vila           3375.0\n",
              "Quitinete              2400.0\n",
              "Name: Valor, dtype: float64"
            ]
          },
          "metadata": {},
          "execution_count": 101
        }
      ]
    },
    {
      "cell_type": "code",
      "source": [
        "limite_superior['Casa']"
      ],
      "metadata": {
        "colab": {
          "base_uri": "https://localhost:8080/"
        },
        "id": "QUaeecH2lKEb",
        "outputId": "c57543a4-1ac0-4f24-93c9-3f9bfb4815ab"
      },
      "execution_count": 102,
      "outputs": [
        {
          "output_type": "execute_result",
          "data": {
            "text/plain": [
              "22850.0"
            ]
          },
          "metadata": {},
          "execution_count": 102
        }
      ]
    },
    {
      "cell_type": "code",
      "source": [
        "for tipo in grupo_tipo.groups.keys():\n",
        "    print(tipo)"
      ],
      "metadata": {
        "colab": {
          "base_uri": "https://localhost:8080/"
        },
        "id": "2oVp_671lL6E",
        "outputId": "93e19426-a039-4558-c2a4-d89736940e2f"
      },
      "execution_count": 103,
      "outputs": [
        {
          "output_type": "stream",
          "name": "stdout",
          "text": [
            "Apartamento\n",
            "Casa\n",
            "Casa Comercial\n",
            "Casa de Condomínio\n",
            "Casa de Vila\n",
            "Quitinete\n"
          ]
        }
      ]
    },
    {
      "cell_type": "code",
      "source": [
        "dados_new = pd.DataFrame()\n",
        "for tipo in grupo_tipo.groups.keys():\n",
        "    eh_tipo = dados['Tipo'] == tipo\n",
        "    eh_dentro_limite = (dados['Valor'] >= limite_inferior[tipo]) & (dados['Valor'] <= limite_superior[tipo])\n",
        "    selecao = eh_tipo & eh_dentro_limite\n",
        "    dados_selecao = dados[selecao]\n",
        "    dados_new = pd.concat([dados_new, dados_selecao])"
      ],
      "metadata": {
        "id": "_wrSm2tBlX4D"
      },
      "execution_count": 104,
      "outputs": []
    },
    {
      "cell_type": "code",
      "source": [
        "dados_new.boxplot(['Valor'], by = ['Tipo'])"
      ],
      "metadata": {
        "colab": {
          "base_uri": "https://localhost:8080/",
          "height": 595
        },
        "id": "pYAPgY0BlWJD",
        "outputId": "1ec1d95d-a087-42ab-dd24-026abb908679"
      },
      "execution_count": 106,
      "outputs": [
        {
          "output_type": "execute_result",
          "data": {
            "text/plain": [
              "<Axes: title={'center': 'Valor'}, xlabel='[Tipo]'>"
            ]
          },
          "metadata": {},
          "execution_count": 106
        },
        {
          "output_type": "display_data",
          "data": {
            "text/plain": [
              "<Figure size 1200x600 with 1 Axes>"
            ],
            "image/png": "[encoded data removed]"
          },
          "metadata": {}
        }
      ]
    },
    {
      "cell_type": "code",
      "source": [
        "dados_new.to_csv('aluguel_residencial_sem_outliers.csv', sep = ';', index = False)"
      ],
      "metadata": {
        "id": "01yInBVgmLO9"
      },
      "execution_count": 107,
      "outputs": []
    }
  ]
}